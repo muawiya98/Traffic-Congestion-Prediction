{
 "cells": [
  {
   "cell_type": "code",
   "execution_count": 1,
   "metadata": {},
   "outputs": [],
   "source": [
    "from Configration import data_path\n",
    "from datetime import datetime\n",
    "import pandas as pd\n",
    "import numpy as np\n",
    "import pickle\n",
    "import os"
   ]
  },
  {
   "cell_type": "code",
   "execution_count": 2,
   "metadata": {},
   "outputs": [],
   "source": [
    "def time_preparing(timestamp):\n",
    "    dt = datetime.strptime(timestamp, \"%Y-%m-%d %H:%M:%S\")\n",
    "    formatted_date = dt.strftime(\"%Y/%m/%d\")\n",
    "    day = dt.day\n",
    "    hour = dt.hour\n",
    "    minute = dt.minute\n",
    "    return formatted_date, day, hour, minute\n",
    "def date_function(timestamp):\n",
    "    dt = datetime.strptime(timestamp, \"%Y-%m-%d %H:%M:%S\")\n",
    "    formatted_date = dt.strftime(\"%Y/%m/%d\")\n",
    "    return formatted_date\n",
    "def day_function(timestamp):\n",
    "    dt = datetime.strptime(timestamp, \"%Y-%m-%d %H:%M:%S\")\n",
    "    day = dt.day\n",
    "    return day\n",
    "def hour_function(timestamp):\n",
    "    dt = datetime.strptime(timestamp, \"%Y-%m-%d %H:%M:%S\")\n",
    "    hour = dt.hour\n",
    "    return hour\n",
    "def minute_function(timestamp):\n",
    "    dt = datetime.strptime(timestamp, \"%Y-%m-%d %H:%M:%S\")\n",
    "    minute = dt.minute\n",
    "    return minute"
   ]
  },
  {
   "cell_type": "code",
   "execution_count": 18,
   "metadata": {},
   "outputs": [],
   "source": [
    "# FOLDER = 'METRLA'\n",
    "# DATA_NAME = 'METRLA.csv'\n",
    "# NEW_DATA_NAME = 'M_Metrla.csv'\n",
    "\n",
    "FOLDER = 'PEMSBAY'\n",
    "DATA_NAME = 'PEMSBAY.csv'\n",
    "NEW_DATA_NAME = 'M_Pemsbay.csv'\n",
    "\n",
    "# new_df = pd.DataFrame(columns=['node', 'date', 'day', 'hour', 'minute', 'speed'])\n",
    "# old_df = pd.read_csv(os.path.join(data_path, FOLDER, DATA_NAME))\n",
    "\n",
    "# samples_number = old_df.shape[0]\n",
    "# nodes_number = old_df.shape[1]-1\n",
    "\n",
    "# # nodes \n",
    "# nodes_list = list(old_df.columns[1:]) * samples_number\n",
    "# new_df['node'] = nodes_list\n",
    "\n",
    "# # dates\n",
    "# date = list(old_df['time'].apply(date_function))\n",
    "# date = [item for item in date for _ in range(nodes_number)]\n",
    "# new_df['date'] = date\n",
    "\n",
    "# # days\n",
    "# day = list(old_df['time'].apply(day_function))\n",
    "# day = [item for item in day for _ in range(nodes_number)]\n",
    "# new_df['day'] = day\n",
    "\n",
    "# # hours \n",
    "# hour = list(old_df['time'].apply(hour_function))\n",
    "# hour = [item for item in hour for _ in range(nodes_number)]\n",
    "# new_df['hour'] = hour\n",
    "\n",
    "# # minuts \n",
    "# minut = list(old_df['time'].apply(minute_function))\n",
    "# minut = [item for item in minut for _ in range(nodes_number)]\n",
    "# new_df['minute'] = minut\n",
    "\n",
    "# # speeds\n",
    "# speed = list(old_df.loc[0][1:])\n",
    "# for i in range(1, samples_number):\n",
    "#     speed += list(old_df.loc[i][1:])\n",
    "# new_df['speed'] = speed\n",
    "\n",
    "# new_df.to_csv(os.path.join(data_path, FOLDER, NEW_DATA_NAME), index=False)\n",
    "\n",
    "# new_df.head()"
   ]
  },
  {
   "cell_type": "code",
   "execution_count": 19,
   "metadata": {},
   "outputs": [],
   "source": [
    "def remove_duplicates(arr):\n",
    "    _, idx = np.unique(arr, return_index=True)\n",
    "    return arr[np.sort(idx)]"
   ]
  },
  {
   "cell_type": "code",
   "execution_count": 20,
   "metadata": {},
   "outputs": [],
   "source": [
    "new_df = pd.read_csv(os.path.join(data_path, FOLDER, NEW_DATA_NAME))\n",
    "ids_list = list(remove_duplicates(np.array(new_df['node'].tolist())))\n",
    "def id_converter(x):\n",
    "    if x in ids_list:\n",
    "        return ids_list.index(x)\n",
    "    else:\n",
    "        return x"
   ]
  },
  {
   "cell_type": "code",
   "execution_count": 21,
   "metadata": {},
   "outputs": [],
   "source": [
    "new_df['node'] = new_df['node'].apply(id_converter)\n",
    "# NEW_DATA_NAME = 'M_Metrla_New.csv'\n",
    "NEW_DATA_NAME = 'M_Pemsbay_New.csv'\n",
    "new_df.to_csv(os.path.join(data_path, FOLDER, NEW_DATA_NAME), index=False)"
   ]
  },
  {
   "cell_type": "code",
   "execution_count": 2,
   "metadata": {},
   "outputs": [],
   "source": [
    "FOLDER = 'METRLA'\n",
    "DATA_NAME = 'adj_matrix.csv'\n",
    "NEW_DATA_NAME = 'adjacent_0.1.csv'\n",
    "\n",
    "# FOLDER = 'PEMSBAY'\n",
    "# DATA_NAME = 'adj_matrix.csv'\n",
    "# NEW_DATA_NAME = 'adjacent_1.csv'\n",
    "th = 0.1\n",
    "\n",
    "new_adj = pd.DataFrame(columns=['src_FID', 'nbr_FID'])\n",
    "src_FID, nbr_FID = [], []\n",
    "adj_path = os.path.join(data_path, FOLDER, DATA_NAME)\n",
    "adj = pd.read_csv(adj_path)\n",
    "\n",
    "for i in range(adj.shape[0]):\n",
    "   raw = np.array(adj.loc[i])\n",
    "   raw2 = list(adj.loc[i])\n",
    "   for j in raw[raw>th]: # 0.1,.....,  0.9\n",
    "      x = raw2.index(j)\n",
    "      if i!=x:\n",
    "         src_FID.append(i)\n",
    "         nbr_FID.append(x)\n",
    "new_adj['src_FID'] = src_FID\n",
    "new_adj['nbr_FID'] = nbr_FID\n",
    "new_adj.to_csv(os.path.join(data_path, FOLDER, NEW_DATA_NAME), index=False)"
   ]
  },
  {
   "cell_type": "code",
   "execution_count": null,
   "metadata": {},
   "outputs": [],
   "source": []
  }
 ],
 "metadata": {
  "kernelspec": {
   "display_name": "Python 3",
   "language": "python",
   "name": "python3"
  },
  "language_info": {
   "codemirror_mode": {
    "name": "ipython",
    "version": 3
   },
   "file_extension": ".py",
   "mimetype": "text/x-python",
   "name": "python",
   "nbconvert_exporter": "python",
   "pygments_lexer": "ipython3",
   "version": "3.7.6"
  }
 },
 "nbformat": 4,
 "nbformat_minor": 2
}
